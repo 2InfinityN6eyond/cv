{
 "cells": [
  {
   "cell_type": "code",
   "execution_count": 1,
   "metadata": {},
   "outputs": [],
   "source": [
    "import cv2\n",
    "import numpy as np\n",
    "import matplotlib.pyplot as plt\n",
    "\n",
    "LENMA_PATH = \"../images/lenna.png\"\n",
    "SHAPE_PATH = \"../images/shapes.png\""
   ]
  },
  {
   "cell_type": "code",
   "execution_count": 39,
   "metadata": {},
   "outputs": [],
   "source": [
    "def get_gaussian_filter_1d(size, sigma) :\n",
    "    kernel = np.arange(size//2 * -1, size//2+1).astype(np.float32).reshape(1, -1)\n",
    "    kernel = np.exp( -kernel*kernel / (2*sigma*sigma) )\n",
    "    kernel /= kernel.sum()\n",
    "    return kernel\n",
    "\n",
    "def get_gaussian_filter_2d(size, sigma) :\n",
    "    x_grid, y_grid = np.meshgrid(\n",
    "        np.arange(-2, 3),\n",
    "        np.arange(-2, 3)\n",
    "    )\n",
    "    distance_square_map = x_grid ** 2 + y_grid ** 2\n",
    "    kernel = np.exp(-distance_square_map / (2*sigma*sigma))\n",
    "    kernel /= kernel.sum()\n",
    "    return kernel\n",
    "\n",
    "\n",
    "def get_gaussian_filter_2d_using_1d(size, sigma) :\n",
    "    \"\"\"\n",
    "    넘파이 outer 연산을 써도 되는지 안되는지 모르겠어서 이 함수는 안 쓰기로 함\n",
    "    \"\"\"\n",
    "    kernel_1d = get_gaussian_filter_1d(size, sigma)\n",
    "    kernel = np.outer(kernel_1d, kernel_1d)\n",
    "    kernel /= kernel.sum()\n",
    "    return kernel"
   ]
  },
  {
   "cell_type": "code",
   "execution_count": null,
   "metadata": {},
   "outputs": [],
   "source": []
  }
 ],
 "metadata": {
  "kernelspec": {
   "display_name": "Python 3.7.13 ('test')",
   "language": "python",
   "name": "python3"
  },
  "language_info": {
   "codemirror_mode": {
    "name": "ipython",
    "version": 3
   },
   "file_extension": ".py",
   "mimetype": "text/x-python",
   "name": "python",
   "nbconvert_exporter": "python",
   "pygments_lexer": "ipython3",
   "version": "3.7.13"
  },
  "orig_nbformat": 4,
  "vscode": {
   "interpreter": {
    "hash": "a8ce1e5d5277cfdba6bbcb22f28d691ec250c85cd6294e5ad6f4c5b99c534d5a"
   }
  }
 },
 "nbformat": 4,
 "nbformat_minor": 2
}
